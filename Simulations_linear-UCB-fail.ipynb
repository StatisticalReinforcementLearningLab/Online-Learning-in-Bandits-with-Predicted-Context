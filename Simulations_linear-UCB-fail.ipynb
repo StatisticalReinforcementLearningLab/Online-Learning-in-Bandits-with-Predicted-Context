{
 "cells": [
  {
   "cell_type": "code",
   "execution_count": 1,
   "metadata": {
    "collapsed": true
   },
   "outputs": [],
   "source": [
    "import numpy as np\n",
    "from scipy import stats\n",
    "import matplotlib.pyplot as plt"
   ]
  },
  {
   "cell_type": "code",
   "execution_count": 2,
   "metadata": {
    "collapsed": true
   },
   "outputs": [],
   "source": [
    "## utility functions\n",
    "def prob_clip(x, p_0):\n",
    "    ## clip the probability value x to be between [p_0, 1-p_0]\n",
    "    ## require 0<=p_0<=1/2\n",
    "    if (x < p_0):\n",
    "        return(p_0)\n",
    "    if (x > (1-p_0)):\n",
    "        return(1-p_0)\n",
    "    return(x)"
   ]
  },
  {
   "cell_type": "code",
   "execution_count": 6,
   "metadata": {
    "collapsed": true
   },
   "outputs": [],
   "source": [
    "class LinBandit:\n",
    "    def __init__(self, theta = None, sigma = None, n_action = None):\n",
    "        ## initialize a bandit model with parameters theta and phi\n",
    "        ## r = <theta_a, s> + eta, eta~N(0, sigma^2)\n",
    "        ## theta: array, each column is a theta_a value\n",
    "        ## n_action: number of actions of the bandit\n",
    "        self.theta = theta\n",
    "        self.sigma = sigma\n",
    "        self.n_action = n_action\n",
    "        if theta is None:\n",
    "            self.dim = None\n",
    "        else:\n",
    "            self.dim = theta.shape[0]\n",
    "            self.n_action = theta.shape[1]\n",
    "      \n",
    "    def mean_reward(self, s, a):\n",
    "        ## compute mean reward from input state s and a\n",
    "        theta = self.theta\n",
    "        if (theta is None) or (a > theta.shape[1]-1):\n",
    "            return(None)\n",
    "        theta_a = self.theta[:, a]\n",
    "        mu = np.dot(theta_a, s) \n",
    "        return(mu)\n",
    "    \n",
    "    def realized_reward(self, s, a):\n",
    "        ## compute realized reward from input state s and a\n",
    "        sigma = self.sigma\n",
    "        eta = np.random.normal(0, sigma)\n",
    "        mu = self.mean_reward(s, a)\n",
    "        if mu is None:\n",
    "            return(None)\n",
    "        r = self.mean_reward(s, a) + eta\n",
    "        return(r)\n",
    "        \n",
    "    def generate_potential_reward_history_list(self, x_list, Sigma_e_list, dist_ops = 0., rho = 0.9):\n",
    "        ## generate potential reward history (with oracle at) for given context with meas. err. w. known variance\n",
    "        ## input: bandit instance, \n",
    "        ##        x_list: (context list), T*d\n",
    "        ##        Sigma_e_list: (list of meas. err.), T * d * d\n",
    "        ##        dist_ops: distribution of meas. err. (0: mv normal, >2: t distribution with ? parameter, -1: d = 1, uniform from {-rho, rho})\n",
    "        ## output: x_list, Sigma_e_list,\n",
    "        ##         x_tilde_list: revealed context list, T*d, gaussian meas. err.!\n",
    "        ##         potential_reward_list: potential observed reward given each action, T * n_action\n",
    "        ##         at_dag_list: oracle action \n",
    "        theta = self.theta\n",
    "        d = self.dim\n",
    "        n_action = self.n_action\n",
    "        T = x_list.shape[0]\n",
    "        if (theta is None):\n",
    "            return(None)\n",
    "        x_tilde_list = np.zeros((T, d))\n",
    "        potential_reward_list = np.zeros((T, n_action))\n",
    "        at_dag_list = np.zeros(T)\n",
    "        for t in range(T):\n",
    "            Sigma_e_t = Sigma_e_list[t, :, :]\n",
    "            if (dist_ops == 0):\n",
    "                x_tilde_t = x_list[t, :] + np.random.multivariate_normal(mean=np.zeros(d), cov=Sigma_e_t)\n",
    "                x_tilde_list[t, :] = x_tilde_t\n",
    "            elif (dist_ops == -1):\n",
    "                x_tilde_t = x_list[t, :] + 2 * rho * np.random.binomial(1, 0.5) - rho\n",
    "                x_tilde_list[t, :] = x_tilde_t\n",
    "            else:\n",
    "                nu = dist_ops\n",
    "                Y = np.random.multivariate_normal(mean=np.zeros(d), cov=(nu-2)/nu*Sigma_e_t)\n",
    "                U = np.random.chisquare(df = nu)\n",
    "                x_tilde_t = x_list[t, :] + np.sqrt(nu / U) * Y\n",
    "                x_tilde_list[t, :] = x_tilde_t\n",
    "            for a in range(n_action):\n",
    "                potential_reward_list[t, a] = self.realized_reward(x_list[t, :], a)\n",
    "            mean_reward_dag = np.matmul(x_tilde_t.reshape((1, d)), theta).reshape(n_action)\n",
    "            at_dag_list[t] = np.argmax(mean_reward_dag)\n",
    "        return_list = {\n",
    "            \"x_list\": x_list,\n",
    "            \"Sigma_e_list\": Sigma_e_list,\n",
    "            \"x_tilde_list\": x_tilde_list,\n",
    "            \"potential_reward_list\": potential_reward_list,\n",
    "            \"at_dag_list\": at_dag_list\n",
    "        }\n",
    "        return(return_list)\n",
    "    \n",
    "    \n",
    "    def generate_potential_reward_history_list1(self, x_list, rho = 0.9):\n",
    "        ## generate potential reward history (with oracle at) for given context with meas. err. w. known variance\n",
    "        ## input: bandit instance, \n",
    "        ##        x_list: (context list), T*d\n",
    "        ## output: x_list, Sigma_e_list,\n",
    "        ##         x_tilde_list: revealed context list, T*d, gaussian meas. err.!\n",
    "        ##         potential_reward_list: potential observed reward given each action, T * n_action\n",
    "        ##         at_dag_list: oracle action \n",
    "        theta = self.theta\n",
    "        d = self.dim\n",
    "        n_action = self.n_action\n",
    "        T = x_list.shape[0]\n",
    "        if (theta is None):\n",
    "            return(None)\n",
    "        x_tilde_list = np.zeros((T, d))\n",
    "        potential_reward_list = np.zeros((T, n_action))\n",
    "        at_dag_list = np.zeros(T)\n",
    "        for t in range(T):\n",
    "            # generate e_t and x_tilde_list[t, :] = x_tilde_t\n",
    "            e_sign = np.random.binomial(1, 0.5) * 2 - 1\n",
    "            e1 = e_sign * rho * x_list[t, 0]\n",
    "            x_tilde_t = x_list[t, :] + e1 * np.ones(d)\n",
    "            x_tilde_list[t, :] = x_tilde_t\n",
    "            \n",
    "            for a in range(n_action):\n",
    "                potential_reward_list[t, a] = self.realized_reward(x_list[t, :], a)\n",
    "            mean_reward_dag = np.matmul(x_tilde_t.reshape((1, d)), theta).reshape(n_action)\n",
    "            at_dag_list[t] = np.argmax(mean_reward_dag)\n",
    "        \n",
    "        return_list = {\n",
    "            \"x_list\": x_list,\n",
    "            #\"Sigma_e_list\": Sigma_e_list,\n",
    "            \"x_tilde_list\": x_tilde_list,\n",
    "            \"potential_reward_list\": potential_reward_list,\n",
    "            \"at_dag_list\": at_dag_list\n",
    "        }\n",
    "        return(return_list)\n",
    "        \n",
    "\n",
    "    \n",
    "    def TS_w_predicted_state(self, x_list, x_tilde_list, potential_reward_list, at_dag_list, rho2, l = 1., p_0 = 0.1):\n",
    "        ## runs the TS algorithm on the bandit instance with hyperparameters rho2, l, p_0, ignoring meas. err.\n",
    "        ##          p_0: minimum selection probability\n",
    "        ##          rho2: parameter for TS - known noise variance in the reward model\n",
    "        ##          l: parameter for TS - prior variance independent rho^2 / l\n",
    "        ##          x_tilde_list: list of predicted contexts\n",
    "        ##          potential_reward_list: list of potential reward (to compare with other algorithms)\n",
    "        ## returns: estimation_err_list, cumulative_regret\n",
    "        ##          history also contains: x_tilde_list, potential_reward_list, at_dag_list,\n",
    "        ##          theta_est_list: all estimated theta (posterior mean), n_action * T * d\n",
    "        ##          pi_list: policy, T * n_action\n",
    "        ##          at_list: action, T\n",
    "        ##          cumulative_regret = \\sum_t [E_{pi_t_dag}mu(x_t, a) - E_{pi_t}mu(x_t, a)]\n",
    "        d = self.dim\n",
    "        T = x_list.shape[0]\n",
    "        theta = self.theta\n",
    "        n_action = self.n_action\n",
    "        if (n_action != 2):\n",
    "            return(None)\n",
    "        \n",
    "        ## initialization of returned values\n",
    "        theta_est_list = np.zeros((n_action, T, d)) \n",
    "        pi_list = np.zeros((T, n_action))\n",
    "        at_list = np.zeros(T)\n",
    "        estimation_err_list = np.zeros((T, n_action))\n",
    "        regret_list = np.zeros(T)\n",
    "        \n",
    "        ## algorithm initialization\n",
    "        regret = 0. # cumulative regret up to current time\n",
    "        Vt = np.zeros((n_action, d, d))  # Vt[a, :, :] = l * I + sum_{\\tau<t} 1_{A_\\tau = a}\\tilde X_\\tau \\tilde X_\\tau^\\top\n",
    "        for a in range(n_action):\n",
    "            Vt[a, :, :] = l * np.eye(d)\n",
    "        bt = np.zeros((n_action, d)) # bt[a, :] = sum_{\\tau<t} 1_{A_\\tau = a}\\tilde X_\\tau r_\\tau\n",
    "        t = 0 # current time (from 0 to T-1)\n",
    "        \n",
    "        ## algorithm iterations\n",
    "        while t < T:\n",
    "            x_tilde_t = x_tilde_list[t, :]\n",
    "            x_t = x_list[t, :]\n",
    "            \n",
    "            ## compute posterior mean/var for all actions using Vt, bt\n",
    "            post_mean_t = np.zeros((n_action, d))\n",
    "            post_var_t = np.zeros((n_action, d, d))\n",
    "            for a in range(n_action):\n",
    "                post_mean = np.matmul(np.linalg.inv(Vt[a, :, :]), bt[a, :])\n",
    "                post_mean_t[a, :] = post_mean\n",
    "                post_var_t[a, :, :] = rho2 * np.linalg.inv(Vt[a, :, :])\n",
    "                theta_est_list[a, t, :] = post_mean\n",
    "                estimation_err_list[t, a] = np.linalg.norm(post_mean - theta[:, a])\n",
    "            \n",
    "            ## compute the probability theta_0 drawn is more optimal, adjust with clipping probability to form pi_t_0\n",
    "            # compute mean and var of <x_tilde_t, theta_0-theta_1> when thetas drawn from the posteriors\n",
    "            post_mean_w_x_tilde = np.dot(x_tilde_t, post_mean_t[0, :] - post_mean_t[1, :])\n",
    "            post_var_w_x_tilde = np.dot(x_tilde_t, np.matmul(post_var_t[0, :, :] + post_var_t[1, :, :], x_tilde_t))\n",
    "            prob_0 = 1 - stats.norm.cdf(-post_mean_w_x_tilde / np.sqrt(post_var_w_x_tilde))  # the probability of sampling 0 without clipping constraint\n",
    "            pi_0 = prob_clip(prob_0, p_0) # clipped probability of sampling 0\n",
    "            pi_list[t, 0] = pi_0\n",
    "            pi_list[t, 1] = 1 - pi_0\n",
    "            if (at_dag_list[t] == 0):\n",
    "                regret_t = np.dot(x_t, theta[:, 0] - theta[:, 1]) * (1 - p_0 - pi_0) # instantaneous regret\n",
    "            else:\n",
    "                regret_t = np.dot(x_t, theta[:, 1] - theta[:, 0]) * (pi_0 - p_0)\n",
    "            regret = regret + regret_t  # update cumulative regret\n",
    "            regret_list[t] = regret\n",
    "            \n",
    "            ## sample from pi_t to obtain a_t, observe reward\n",
    "            at = np.random.binomial(1, 1 - pi_0) \n",
    "            at_list[t] = at\n",
    "            rt = potential_reward_list[t, at]\n",
    "            \n",
    "            ## update Vt, bt for all actions (only posterior w. action a is changed)\n",
    "            Vt[at, :, :] = Vt[at, :, :] + np.matmul(x_tilde_t.reshape((d, 1)), x_tilde_t.reshape((1, d)))\n",
    "            bt[at, :] = bt[at, :] + x_tilde_t * rt\n",
    "\n",
    "            ## update t\n",
    "            t = t + 1\n",
    "        \n",
    "        ## history construction\n",
    "        history = {\n",
    "            \"x_list\": x_list,\n",
    "            \"x_tilde_list\": x_tilde_list,\n",
    "            \"potential_reward_list\": potential_reward_list,\n",
    "            \"at_dag_list\": at_dag_list,\n",
    "            \"theta_est_list\": theta_est_list,\n",
    "            \"at_list\": at_list,\n",
    "            \"pi_list\": pi_list,\n",
    "            \"estimation_err_list\": estimation_err_list,\n",
    "            \"regret_list\": regret_list\n",
    "        }\n",
    "        return(history)    \n",
    "\n",
    "    \n",
    "    def UCB_w_predicted_state(self, x_list, x_tilde_list, potential_reward_list, at_dag_list, C, l = 1., p_0 = 0.1):\n",
    "        ## runs the UCB algorithm on the bandit instance with hyperparameters C, l, p_0, ignoring meas. err.\n",
    "        ##          p_0: minimum selection probability\n",
    "        ##          C: parameter for UCB - coefficient before confidence width in UCB\n",
    "        ##          l: parameter for UCB - parameter in ridge regression\n",
    "        ##          x_tilde_list: list of predicted contexts\n",
    "        ##          potential_reward_list: list of potential reward (to compare with other algorithms)\n",
    "        ## returns: estimation_err_list, cumulative_regret\n",
    "        ##          history also contains: x_tilde_list, potential_reward_list, at_dag_list,\n",
    "        ##          theta_est_list: all estimated theta (posterior mean), n_action * T * d\n",
    "        ##          pi_list: policy, T * n_action\n",
    "        ##          at_list: action, T\n",
    "        ##          cumulative_regret = \\sum_t [E_{pi_t_dag}mu(x_t, a) - E_{pi_t}mu(x_t, a)]\n",
    "        d = self.dim\n",
    "        T = x_list.shape[0]\n",
    "        theta = self.theta\n",
    "        n_action = self.n_action\n",
    "        if (n_action != 2):\n",
    "            return(None)\n",
    "        \n",
    "        ## initialization of returned values\n",
    "        theta_est_list = np.zeros((n_action, T, d)) \n",
    "        pi_list = np.zeros((T, n_action))\n",
    "        at_list = np.zeros(T)\n",
    "        estimation_err_list = np.zeros((T, n_action))\n",
    "        regret_list = np.zeros(T)\n",
    "        \n",
    "        ## algorithm initialization\n",
    "        regret = 0. # cumulative regret up to current time\n",
    "        Vt = np.zeros((n_action, d, d))  # Vt[a, :, :] = l * I + sum_{\\tau<t} 1_{A_\\tau = a}\\tilde X_\\tau \\tilde X_\\tau^\\top\n",
    "        for a in range(n_action):\n",
    "            Vt[a, :, :] = l * np.eye(d)\n",
    "        bt = np.zeros((n_action, d)) # bt[a, :] = sum_{\\tau<t} 1_{A_\\tau = a}\\tilde X_\\tau r_\\tau\n",
    "        t = 0 # current time (from 0 to T-1)\n",
    "        \n",
    "        ## algorithm iterations\n",
    "        while t < T:\n",
    "            x_tilde_t = x_tilde_list[t, :]\n",
    "            x_t = x_list[t, :]\n",
    "            \n",
    "            ## compute best action using Vt, bt, update estimation error\n",
    "            UCB_list = np.zeros(n_action)\n",
    "            for i_action in range(n_action):\n",
    "                theta_a_hat = np.matmul(np.linalg.inv(Vt[i_action, :, :]), bt[i_action, :].reshape((d, 1))).reshape(d)\n",
    "                mu_a = np.dot(theta_a_hat, x_tilde_t)\n",
    "                sigma_a2 = np.dot(x_tilde_t, np.matmul(np.linalg.inv(Vt[i_action, :, :]), x_tilde_t))\n",
    "                UCB_list[i_action] = mu_a + C * np.sqrt(sigma_a2)\n",
    "                theta_est_list[i_action, t, :] = theta_a_hat\n",
    "                estimation_err_list[t, i_action] = np.linalg.norm(theta_a_hat - theta[:, i_action])\n",
    "            at_ucb = np.argmax(UCB_list)  # best action from UCB\n",
    "            \n",
    "            ## compute current policy pi_t, adjust with clipping, compute regret\n",
    "            for i_action in range(n_action):\n",
    "                if (i_action == at_ucb):\n",
    "                    pi_list[t, i_action] = 1 - (n_action - 1) * p_0\n",
    "                else:\n",
    "                    pi_list[t, i_action] = p_0\n",
    "            if (at_dag_list[t] == 0): # reward of oracle policy\n",
    "                reward_oracle_t = np.dot(x_t, theta[:, 0]) * (1 - p_0) \\\n",
    "                                  + np.dot(x_t, theta[:, 1]) * p_0        # oracle instantaneous reward\n",
    "            else:\n",
    "                reward_oracle_t = np.dot(x_t, theta[:, 1]) * (1 - p_0) \\\n",
    "                                  + np.dot(x_t, theta[:, 0]) * p_0\n",
    "            reward_policy = np.dot(x_t, theta[:, 0]) * pi_list[t, 0] \\\n",
    "                            + np.dot(x_t, theta[:, 1]) * pi_list[t, 1]    # reward of current policy\n",
    "            regret_t = reward_oracle_t - reward_policy   # instantaneous regret\n",
    "            regret = regret + regret_t\n",
    "            regret_list[t] = regret\n",
    "            \n",
    "            ## sample from pi_t to obtain a_t, observe reward\n",
    "            at = np.random.binomial(1, pi_list[t, 1]) \n",
    "            at_list[t] = at\n",
    "            rt = potential_reward_list[t, at]  \n",
    "            \n",
    "            ## update Vt, bt for all actions (only data w. action a is changed)\n",
    "            Vt[at, :, :] = Vt[at, :, :] + np.matmul(x_tilde_t.reshape((d, 1)), x_tilde_t.reshape((1, d)))\n",
    "            bt[at, :] = bt[at, :] + x_tilde_t * rt\n",
    "\n",
    "            ## update t\n",
    "            t = t + 1\n",
    "        \n",
    "        ## history construction\n",
    "        history = {\n",
    "            \"x_list\": x_list,\n",
    "            \"x_tilde_list\": x_tilde_list,\n",
    "            \"potential_reward_list\": potential_reward_list,\n",
    "            \"at_dag_list\": at_dag_list,\n",
    "            \"theta_est_list\": theta_est_list,\n",
    "            \"at_list\": at_list,\n",
    "            \"pi_list\": pi_list,\n",
    "            \"estimation_err_list\": estimation_err_list,\n",
    "            \"regret_list\": regret_list\n",
    "        }\n",
    "        return(history) \n",
    "    \n",
    "    def online_me_adjust_w_predicted_state(self, x_tilde_list, potential_reward_list, at_dag_list, \\\n",
    "                                           Sigma_e_hat_list, ind_S, pi_nd_list, p_0 = 0.1, naive = False):\n",
    "        ## runs the online meas. adjust algorithm on the bandit instance with hyperparameters Sigma_e_hat_list, p_0, ind_S, pi_nd_list\n",
    "        ##          p_0: minimum selection probability\n",
    "        ##          ind_S: binary vector indicating if algorithm update model estimate\n",
    "        ##          pi_nd_list: stablizing policy, T * n_action\n",
    "        ##          Sigma_e_hat_list: estimated conditional var of meas. err\n",
    "        ##          x_tilde_list: list of predicted contexts\n",
    "        ##          potential_reward_list: list of potential reward (to compare with other algorithms)\n",
    "        ## returns: estimation_err_list, cumulative_regret\n",
    "        ##          history also contains: x_tilde_list, potential_reward_list, at_dag_list,\n",
    "        ##          theta_est_list: all estimated theta (posterior mean), n_action * T * d\n",
    "        ##          pi_list: policy, T * n_action\n",
    "        ##          at_list: action, T\n",
    "        ##          cumulative_regret = \\sum_t [E_{pi_t_dag}mu(x_t, a) - E_{pi_t}mu(x_t, a)]\n",
    "        d = self.dim\n",
    "        T = x_list.shape[0]\n",
    "        theta = self.theta\n",
    "        n_action = self.n_action\n",
    "        \n",
    "        ## initialization of returned values\n",
    "        theta_est_list = np.zeros((n_action, T, d)) \n",
    "        pi_list = np.zeros((T, n_action))\n",
    "        at_list = np.zeros(T)\n",
    "        estimation_err_list = np.zeros((T, n_action))\n",
    "        regret_list = np.zeros(T)\n",
    "        \n",
    "        ## algorithm initialization\n",
    "        t = 0\n",
    "        s_t = -1  # s_t: the most recent update index before time t\n",
    "        V_t = np.zeros((n_action, d, d))  # Vt = \\sum_{\\tau<t} iw_\\tau * 1_{a_\\tau = a} * x_tilde_\\tau x_tilde_\\tau^\\top, iw_t = \\pi^nd_t(a_t)/\\pi_t(a_t)\n",
    "        W_t = np.zeros((n_action, d, d))  # Wt = \\sum_{\\tau<t} \\pi_\\tau^nd(a) * Sigma_e_hat[\\tau, :, :]\n",
    "        b_t = np.zeros((n_action, d))  # bt = \\sum_{\\tau<t} iw_\\tau * 1_{a_\\tau = a} * x_tilde_\\tau r_\\tau\n",
    "        V_st = np.zeros((n_action, d, d))  # most recent recorded V_t\n",
    "        W_st = np.zeros((n_action, d, d))  # most recent recorded W_t\n",
    "        b_st = np.zeros((n_action, d))  # most recent recorded b_t\n",
    "        theta_st = np.zeros((n_action, d))  # most recent estimated theta\n",
    "        regret = 0.  # cumulative regret\n",
    "        \n",
    "        ## algorithm iterations\n",
    "        while t<T:\n",
    "            x_tilde_t = x_tilde_list[t, :]\n",
    "            \n",
    "            ## get most recent theta estimation, compute policy and regret\n",
    "            if (s_t < 0): # no theta available, take theta=0\n",
    "                pi_t_0 = .5\n",
    "                pi_t_1 = .5\n",
    "                pi_list[t, 0] = pi_t_0\n",
    "                pi_list[t, 1] = pi_t_1\n",
    "            else:\n",
    "                at_tilde = np.argmax(np.matmul(theta_st, x_tilde_t))\n",
    "                pi_list[t, at_tilde] = 1 - p_0\n",
    "                pi_list[t, 1-at_tilde] = p_0\n",
    "            # compute regret\n",
    "            if (at_dag_list[t] == 0):\n",
    "                reward_oracle_t = np.dot(x_tilde_t, theta[:, 0]) * (1 - p_0) \\\n",
    "                                  + np.dot(x_tilde_t, theta[:, 1]) * p_0        # oracle instantaneous reward\n",
    "            else:\n",
    "                reward_oracle_t = np.dot(x_tilde_t, theta[:, 1]) * (1 - p_0) \\\n",
    "                                  + np.dot(x_tilde_t, theta[:, 0]) * p_0\n",
    "            reward_policy = np.dot(x_tilde_t, theta[:, 0]) * pi_list[t, 0] \\\n",
    "                            + np.dot(x_tilde_t, theta[:, 1]) * pi_list[t, 1]    # reward of current policy\n",
    "            regret_t = reward_oracle_t - reward_policy   # instantaneous regret\n",
    "            regret = regret + regret_t\n",
    "            regret_list[t] = regret\n",
    "            \n",
    "            ## sample action, observe reward\n",
    "            at = np.random.binomial(1, pi_list[t, 1]) \n",
    "            at_list[t] = at\n",
    "            rt = potential_reward_list[t, at]          \n",
    "            \n",
    "            ## record theta\n",
    "            for a in range(n_action):\n",
    "                theta_est_list[a, t, :] = theta_st[a, :]\n",
    "                estimation_err_list[t, a] = np.linalg.norm(theta_st[a, :] - theta[:, a])\n",
    "            \n",
    "            ## update V, W, b; most recent V, W, b; s_t, theta_st\n",
    "            if (naive == False):\n",
    "                imp_weight_at = pi_nd_list[t, at] / pi_list[t, at]\n",
    "            else:\n",
    "                imp_weight_at = 1.\n",
    "            for a in range(n_action):\n",
    "                # update V and b\n",
    "                if (a == at):\n",
    "                    V_t[a, :, :] = V_t[a, :, :] + imp_weight_at * np.matmul(x_tilde_t.reshape((d, 1)), x_tilde_t.reshape((1, d)))\n",
    "                    b_t[a, :] = b_t[a, :] + imp_weight_at * x_tilde_t * rt\n",
    "                # update W\n",
    "                if (naive == False):\n",
    "                    W_t[a, :, :] = W_t[a, :, :] + pi_nd_list[t, a] * Sigma_e_hat_list[t, :, :]\n",
    "                elif (a == at):\n",
    "                    W_t[a, :, :] = W_t[a, :, :] + Sigma_e_hat_list[t, :, :]\n",
    "            if (ind_S[t] == 1):\n",
    "                s_t = t\n",
    "                V_st = V_t\n",
    "                b_st = b_t\n",
    "                W_st = W_t\n",
    "                for a in range(n_action):\n",
    "                    theta_st[a, :] = np.matmul(np.linalg.inv(V_st[a, :, :] - W_st[a, :, :]), b_st[a, :])\n",
    "            \n",
    "            ## update t\n",
    "            t = t + 1\n",
    "        \n",
    "        ## history construction\n",
    "        history = {\n",
    "            \"x_tilde_list\": x_tilde_list,\n",
    "            \"potential_reward_list\": potential_reward_list,\n",
    "            \"at_dag_list\": at_dag_list,\n",
    "            \"theta_est_list\": theta_est_list,\n",
    "            \"at_list\": at_list,\n",
    "            \"pi_list\": pi_list,\n",
    "            \"estimation_err_list\": estimation_err_list,\n",
    "            \"regret_list\": regret_list\n",
    "        }\n",
    "        return(history)    "
   ]
  },
  {
   "cell_type": "code",
   "execution_count": 7,
   "metadata": {
    "scrolled": false
   },
   "outputs": [
    {
     "name": "stdout",
     "output_type": "stream",
     "text": [
      "0 1 2 3 4 5 6 7 8 9 10 11 12 13 14 15 16 17 18 19 20 21 22 23 24 25 26 27 28 29 30 31 32 33 34 35 36 37 38 39 40 41 42 43 44 45 46 47 48 49 50 51 52 53 54 55 56 57 58 59 60 61 62 63 64 65 66 67 68 69 70 71 72 73 74 75 76 77 78 79 80 81 82 83 84 85 86 87 88 89 90 91 92 93 94 95 96 97 98 99 "
     ]
    }
   ],
   "source": [
    "## simulation: construct bandit instance, compare estimation and regret of proposed algorithm and TS\n",
    "T = 10000\n",
    "d = 2\n",
    "n_experiment = 100\n",
    "n_action = 2\n",
    "theta = np.zeros((d, n_action))\n",
    "theta[:, 0] = np.array([1., 0])\n",
    "theta[:, 1] = np.array([-1., 0])\n",
    "sigma = 0.01\n",
    "#Sigma_e = 1./4 * np.eye(d) ## not used\n",
    "#Sigma_e_list = np.zeros((T, d, d)) ## not used\n",
    "#for t in range(T):\n",
    "#    Sigma_e_list[t, :, :] = Sigma_e\n",
    "p_0 = 0.0\n",
    "\n",
    "UCB_estimation_err_sum = np.zeros((T, n_action))\n",
    "UCB_estimation_err_sum2 = np.zeros((T, n_action))\n",
    "UCB_regret_err_sum = np.zeros(T)\n",
    "UCB_regret_err_sum2 = np.zeros(T)\n",
    "TS_estimation_err_sum = np.zeros((T, n_action))\n",
    "TS_estimation_err_sum2 = np.zeros((T, n_action))\n",
    "TS_regret_err_sum = np.zeros(T)\n",
    "TS_regret_err_sum2 = np.zeros(T)\n",
    "\n",
    "x_dict = np.array([[1, -3, -1, 3],[3, 1, -3, -1]]).T\n",
    "\n",
    "for i_experiment in range(n_experiment):\n",
    "    print(i_experiment, end = ' ')\n",
    "    Bandit_1 = LinBandit(theta = theta, sigma = sigma)\n",
    "    ## iid x_t\n",
    "    x_list = np.zeros((T, d)) \n",
    "    for t in range(T):\n",
    "        x_idx = np.random.randint(0, 4)\n",
    "        x_list[t, :] = x_dict[x_idx, :]\n",
    "    \n",
    "    Bandit_info = Bandit_1.generate_potential_reward_history_list1(x_list = x_list, rho = 0.9)\n",
    "    #print('data generated')\n",
    "\n",
    "    C = 1.0\n",
    "    UCB_history = Bandit_1.UCB_w_predicted_state(x_list = x_list,\n",
    "                                                 x_tilde_list = Bandit_info['x_tilde_list'], \\\n",
    "                                                 potential_reward_list = Bandit_info['potential_reward_list'], \\\n",
    "                                                 at_dag_list = Bandit_info['at_dag_list'], \\\n",
    "                                                 C = C, l = 1., p_0 = p_0)\n",
    "    TS_history = Bandit_1.TS_w_predicted_state(x_list = x_list,\n",
    "                                               x_tilde_list = Bandit_info['x_tilde_list'], \\\n",
    "                                               potential_reward_list = Bandit_info['potential_reward_list'], \\\n",
    "                                               at_dag_list = Bandit_info['at_dag_list'], \\\n",
    "                                               rho2 = sigma ** 2, l = 1., p_0 = p_0)\n",
    "    \n",
    "    UCB_estimation_err_sum = UCB_estimation_err_sum + UCB_history['estimation_err_list']\n",
    "    UCB_estimation_err_sum2 = UCB_estimation_err_sum2 + UCB_history['estimation_err_list'] ** 2\n",
    "    UCB_regret_err_sum = UCB_regret_err_sum + UCB_history['regret_list']\n",
    "    UCB_regret_err_sum2 = UCB_regret_err_sum2 + UCB_history['regret_list'] ** 2\n",
    "    TS_estimation_err_sum = TS_estimation_err_sum + TS_history['estimation_err_list']\n",
    "    TS_estimation_err_sum2 = TS_estimation_err_sum2 + TS_history['estimation_err_list'] ** 2\n",
    "    TS_regret_err_sum = TS_regret_err_sum + TS_history['regret_list']\n",
    "    TS_regret_err_sum2 = TS_regret_err_sum2 + TS_history['regret_list'] ** 2"
   ]
  },
  {
   "cell_type": "code",
   "execution_count": 8,
   "metadata": {},
   "outputs": [
    {
     "data": {
      "text/plain": [
       "array([[ 0.        ,  0.        ],\n",
       "       [ 0.06097857, -0.75206904],\n",
       "       [ 0.15790439, -0.55311604],\n",
       "       ...,\n",
       "       [ 1.38591217, -0.6293678 ],\n",
       "       [ 1.38585104, -0.62935766],\n",
       "       [ 1.38585656, -0.62928151]])"
      ]
     },
     "execution_count": 8,
     "metadata": {},
     "output_type": "execute_result"
    }
   ],
   "source": [
    "UCB_history['theta_est_list'][0, :, :] - UCB_history['theta_est_list'][1, :, :]"
   ]
  },
  {
   "cell_type": "code",
   "execution_count": 9,
   "metadata": {},
   "outputs": [
    {
     "data": {
      "text/plain": [
       "(10000, 2)"
      ]
     },
     "execution_count": 9,
     "metadata": {},
     "output_type": "execute_result"
    }
   ],
   "source": [
    "UCB_estimation_err_sum.shape"
   ]
  },
  {
   "cell_type": "code",
   "execution_count": 15,
   "metadata": {
    "scrolled": false
   },
   "outputs": [
    {
     "data": {
      "image/png": "[encoded data removed]",
      "text/plain": [
       "<matplotlib.figure.Figure at 0x7fb1923c1908>"
      ]
     },
     "execution_count": 15,
     "metadata": {},
     "output_type": "execute_result"
    }
   ],
   "source": [
    "# plot estimation error (theta_1)\n",
    "fig, ax = plt.subplots(figsize=(5, 5))\n",
    "#ax.fill_between(x, y0-y0_std, y0+y0_std, color = 'green', alpha=0.2)\n",
    "TS_est_1_mean = TS_estimation_err_sum[:, 1] / n_experiment\n",
    "TS_est_1_sd = (TS_estimation_err_sum2[:, 1] - TS_est_1_mean ** 2) ** 0.5 / (n_experiment)\n",
    "UCB_est_1_mean = UCB_estimation_err_sum[:, 1] / n_experiment\n",
    "UCB_est_1_sd = (UCB_estimation_err_sum2[:, 1] - UCB_est_1_mean ** 2) ** 0.5 / (n_experiment)\n",
    "ax.plot(np.arange(T), TS_est_1_mean, color = 'red', markersize=0.2, label = 'TS')\n",
    "ax.plot(np.arange(T), UCB_est_1_mean, color = 'violet', markersize=0.2, label = 'UCB')\n",
    "ax.fill_between(np.arange(T), TS_est_1_mean - TS_est_1_sd, \\\n",
    "                TS_est_1_mean + TS_est_1_sd, color = 'red', alpha=0.1)\n",
    "ax.fill_between(np.arange(T), UCB_est_1_mean - UCB_est_1_sd, \\\n",
    "                UCB_est_1_mean + UCB_est_1_sd, color = 'violet', alpha=0.1)\n",
    "ax.legend(loc='center left', bbox_to_anchor=(1.1, 0.5))\n",
    "#ax.set_xlim([0, 10000])\n",
    "#ax.set_xticks([0, 5000, 10000, 15000, 20000])\n",
    "ax.set_ylim([0, 1])\n",
    "#fig.savefig(\"7.pdf\", format=\"pdf\")\n",
    "fig"
   ]
  },
  {
   "cell_type": "code",
   "execution_count": 14,
   "metadata": {},
   "outputs": [
    {
     "data": {
      "image/png": "[encoded data removed]",
      "text/plain": [
       "<matplotlib.figure.Figure at 0x7fb17049c2e8>"
      ]
     },
     "execution_count": 14,
     "metadata": {},
     "output_type": "execute_result"
    }
   ],
   "source": [
    "# plot estimation error (theta_0)\n",
    "fig, ax = plt.subplots(figsize=(5, 5))\n",
    "#ax.fill_between(x, y0-y0_std, y0+y0_std, color = 'green', alpha=0.2)\n",
    "TS_est_0_mean = TS_estimation_err_sum[:, 0] / n_experiment\n",
    "TS_est_0_sd = (TS_estimation_err_sum2[:, 0] - TS_est_0_mean ** 2) ** 0.5 / (n_experiment)\n",
    "UCB_est_0_mean = UCB_estimation_err_sum[:, 0] / n_experiment\n",
    "UCB_est_0_sd = (UCB_estimation_err_sum2[:, 0] - UCB_est_0_mean ** 2) ** 0.5 / (n_experiment)\n",
    "ax.plot(np.arange(T), TS_est_0_mean, color = 'red', markersize=0.2, label = 'TS')\n",
    "ax.plot(np.arange(T), UCB_est_0_mean, color = 'violet', markersize=0.2, label = 'UCB')\n",
    "ax.fill_between(np.arange(T), TS_est_0_mean - TS_est_0_sd, \\\n",
    "                TS_est_0_mean + TS_est_0_sd, color = 'red', alpha=0.1)\n",
    "ax.fill_between(np.arange(T), UCB_est_0_mean - UCB_est_0_sd, \\\n",
    "                UCB_est_0_mean + UCB_est_0_sd, color = 'violet', alpha=0.1)\n",
    "ax.legend(loc='center left', bbox_to_anchor=(1.1, 0.5))\n",
    "#ax.set_xlim([0, 10000])\n",
    "#ax.set_xticks([0, 5000, 10000, 15000, 20000])\n",
    "ax.set_ylim([0, 1])\n",
    "#fig.savefig(\"7.pdf\", format=\"pdf\")\n",
    "fig"
   ]
  },
  {
   "cell_type": "code",
   "execution_count": 12,
   "metadata": {},
   "outputs": [
    {
     "data": {
      "text/plain": [
       "array([1.        , 0.97657888, 0.89903527, ..., 0.43728815, 0.4372917 ,\n",
       "       0.437294  ])"
      ]
     },
     "execution_count": 12,
     "metadata": {},
     "output_type": "execute_result"
    }
   ],
   "source": [
    "TS_est_0_mean"
   ]
  },
  {
   "cell_type": "code",
   "execution_count": 13,
   "metadata": {},
   "outputs": [
    {
     "data": {
      "text/plain": [
       "array([1.        , 0.9734967 , 0.89145104, ..., 0.43751157, 0.43750952,\n",
       "       0.43751335])"
      ]
     },
     "execution_count": 13,
     "metadata": {},
     "output_type": "execute_result"
    }
   ],
   "source": [
    "TS_est_1_mean"
   ]
  },
  {
   "cell_type": "code",
   "execution_count": 16,
   "metadata": {
    "scrolled": false
   },
   "outputs": [
    {
     "data": {
      "image/png": "[encoded data removed]",
      "text/plain": [
       "<matplotlib.figure.Figure at 0x7fb1925f64a8>"
      ]
     },
     "execution_count": 16,
     "metadata": {},
     "output_type": "execute_result"
    }
   ],
   "source": [
    "# plot regret\n",
    "fig, ax = plt.subplots(figsize=(5, 5))\n",
    "UCB_regret_mean = UCB_regret_err_sum / n_experiment\n",
    "UCB_regret_sd = (UCB_regret_err_sum2 - UCB_regret_mean ** 2) ** 0.5 / (n_experiment)\n",
    "TS_regret_mean = TS_regret_err_sum / n_experiment\n",
    "TS_regret_sd = (TS_regret_err_sum2 - TS_regret_mean ** 2) ** 0.5 / (n_experiment)\n",
    "#ME_regret_mean = ME_regret_err_sum / n_experiment\n",
    "#ME_regret_sd = (ME_regret_err_sum2 - ME_regret_mean ** 2) ** 0.5 / (n_experiment)\n",
    "#ME_n_regret_mean = ME_n_regret_err_sum / n_experiment\n",
    "#ME_n_regret_sd = (ME_n_regret_err_sum2 - ME_n_regret_mean ** 2) ** 0.5 / (n_experiment)\n",
    "#ax.plot(np.arange(T), ME_regret_err_sum / n_experiment, color = 'blue', markersize=0.2, label = 'MEB')\n",
    "#ax.plot(np.arange(T), ME_n_regret_err_sum / n_experiment, color = 'green', markersize=0.2, label = 'MEB_naive')\n",
    "ax.plot(np.arange(T), TS_regret_mean, color = 'red', markersize=0.2, label = 'TS')\n",
    "ax.plot(np.arange(T), UCB_regret_mean, color = 'violet', markersize=0.2, label = 'UCB')\n",
    "#ax.fill_between(np.arange(T), ME_regret_mean - ME_regret_sd, \\\n",
    "#                ME_regret_mean + ME_regret_sd, color = 'blue', alpha=0.1)\n",
    "#ax.fill_between(np.arange(T), ME_n_regret_mean - ME_n_regret_sd, \\\n",
    "#                ME_n_regret_mean + ME_n_regret_sd, color = 'green', alpha=0.1)\n",
    "ax.fill_between(np.arange(T), TS_regret_mean - TS_regret_sd, \\\n",
    "                TS_regret_mean + TS_regret_sd, color = 'red', alpha=0.1)\n",
    "ax.fill_between(np.arange(T), UCB_regret_mean - UCB_regret_sd, \\\n",
    "                UCB_regret_mean + UCB_regret_sd, color = 'violet', alpha=0.1)\n",
    "ax.legend(loc='center left', bbox_to_anchor=(1.1, 0.5))\n",
    "#ax.set_xlim([0, 20000])\n",
    "#ax.set_xticks([0, 5000, 10000, 15000, 20000])\n",
    "#ax.set_xlim([0, 10000])\n",
    "#ax.set_xticks([0, 2500, 5000, 7500, 10000])\n",
    "#ax.set_xlim([0, 10000])\n",
    "#ax.set_xticks([0, 2500, 5000, 7500, 10000])\n",
    "ax.set_ylim([0, 6000])\n",
    "#fig.savefig(\"8.pdf\", format=\"pdf\")\n",
    "fig"
   ]
  },
  {
   "cell_type": "code",
   "execution_count": 16,
   "metadata": {},
   "outputs": [
    {
     "data": {
      "text/plain": [
       "0.06715865682686346"
      ]
     },
     "execution_count": 16,
     "metadata": {},
     "output_type": "execute_result"
    }
   ],
   "source": [
    "np.mean(ME_history['at_list'] != ME_history['at_dag_list'])"
   ]
  },
  {
   "cell_type": "code",
   "execution_count": 17,
   "metadata": {},
   "outputs": [
    {
     "data": {
      "text/plain": [
       "0.05725885482290354"
      ]
     },
     "execution_count": 17,
     "metadata": {},
     "output_type": "execute_result"
    }
   ],
   "source": [
    "np.mean(UCB_history['at_list'] != UCB_history['at_dag_list'])"
   ]
  },
  {
   "cell_type": "code",
   "execution_count": 18,
   "metadata": {},
   "outputs": [
    {
     "name": "stdout",
     "output_type": "stream",
     "text": [
      "0.00953130966478182 0.0030226257632393547\n",
      "0.001432803780325856 0.00046066716311827475\n",
      "0.004916243975077221 0.0015896085612874683\n"
     ]
    }
   ],
   "source": [
    "print(TS_est_1_mean[-1], TS_est_1_sd[-1])\n",
    "print(ME_est_1_mean[-1], ME_est_1_sd[-1])\n",
    "print(ME_n_est_1_mean[-1], ME_n_est_1_sd[-1])"
   ]
  },
  {
   "cell_type": "code",
   "execution_count": 19,
   "metadata": {},
   "outputs": [
    {
     "name": "stdout",
     "output_type": "stream",
     "text": [
      "1.4970634701129981 0.48050701951340796\n",
      "2.6064130978591264 0.8423614527617207\n",
      "6.836600049914643 2.2154570557423474\n"
     ]
    }
   ],
   "source": [
    "print(TS_regret_mean[-1], TS_regret_sd[-1])\n",
    "print(ME_regret_mean[-1], ME_regret_sd[-1])\n",
    "print(ME_n_regret_mean[-1], ME_n_regret_sd[-1])"
   ]
  }
 ],
 "metadata": {
  "kernelspec": {
   "display_name": "Python 3",
   "language": "python",
   "name": "python3"
  },
  "language_info": {
   "codemirror_mode": {
    "name": "ipython",
    "version": 3
   },
   "file_extension": ".py",
   "mimetype": "text/x-python",
   "name": "python",
   "nbconvert_exporter": "python",
   "pygments_lexer": "ipython3",
   "version": "3.6.3"
  }
 },
 "nbformat": 4,
 "nbformat_minor": 2
}
