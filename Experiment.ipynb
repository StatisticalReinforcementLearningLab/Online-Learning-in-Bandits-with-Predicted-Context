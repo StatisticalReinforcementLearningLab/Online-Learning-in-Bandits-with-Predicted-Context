{
 "cells": [
  {
   "cell_type": "code",
   "execution_count": 2,
   "id": "4cf1831f",
   "metadata": {},
   "outputs": [],
   "source": [
    "from visualization import *\n",
    "import numpy as np\n",
    "import random\n",
    "\n",
    "np.random.seed(seed=1)#\n",
    "random.seed(1)\n",
    "# print(random.random())"
   ]
  },
  {
   "cell_type": "code",
   "execution_count": null,
   "id": "9bd0fa1c",
   "metadata": {
    "scrolled": true
   },
   "outputs": [],
   "source": [
    "import subprocess\n",
    "import os\n",
    "import pickle\n",
    "\n",
    "\n",
    "se_list = [0.1, 1.0, 2.0]\n",
    "s_list = [0.01, 0.1, 1.0]\n",
    "res_m = []\n",
    "res_s = []\n",
    "for se in se_list:\n",
    "    for s in s_list:\n",
    "\n",
    "        save_name = 'gaussian_p2_se%s_s_%s'%(str(se), str(s))\n",
    "        print(save_name)\n",
    "        if not os.path.exists('Pickle_files/%s.pickle'%(save_name)):\n",
    "            subprocess.call([\"python\", \"RunExp.py\", '-T', '50000', '-n', '100',\n",
    "                         '--scale', '1', '--dist_ops', '3', '-d', '5', '--offset', '5',\n",
    "                        '--save_name', save_name, '--sigma', str(s),# '--decay_cut', '0.5',\n",
    "                         '--sigma_e', str(se), '--ind_S', '500', '-p', '0.2', '--save'])\n",
    "        with open('Pickle_files/%s.pickle'%(save_name), 'rb') as f:\n",
    "            results, algs, attr, args = pickle.load(f)\n",
    "        oPlot = FlowLayout()\n",
    "        print(args)\n",
    "        save = True\n",
    "        plot_error(results, algs, oPlot, 1, save = save, savename = save_name, sub_sampling = 100)\n",
    "        m, s = plot_regret(results, algs, oPlot, log = True, upper = 11, save = save, savename = save_name, sub_sampling = 100)\n",
    "        oPlot.PassHtmlToCell()\n",
    "        res_m.append(m)\n",
    "        res_s.append(s)\n",
    "i = 0\n",
    "for se in se_list:\n",
    "    for s in s_list:\n",
    "        res = ','.join(map(lambda j: '%.3f' % (res_m[i][j]) + ' (%.3f)' % (res_s[i][j]), range(4)))\n",
    "        print(s, ',', se, ',', res)\n",
    "        i += 1"
   ]
  },
  {
   "cell_type": "code",
   "execution_count": null,
   "id": "b1440405",
   "metadata": {},
   "outputs": [],
   "source": [
    "# scale = 0.1\n",
    "se_list = [0.1, 1.0, 2.0]\n",
    "s_list = [0.05, 0.1, 5.0]\n",
    "res_m = []\n",
    "res_s = []\n",
    "import subprocess\n",
    "\n",
    "for se in se_list:\n",
    "    for s in s_list:\n",
    "        save_name = 'gaussian_p2_se%s_s_%s'%(str(se), str(s))\n",
    "        subprocess.call([\"python\", \"RunExp_real.py\", '-T', '5000', '-n', '100',\n",
    "                    '--save_name', save_name, '--sigma_e', str(se), '--ind_S', '100', '--decay_cut', '0.5', \n",
    "                     '-p', '0.5', '--save', '--sigma', str(s)\n",
    "                    ])\n",
    "\n",
    "        with open('Pickle_files_real/%s.pickle'%(save_name), 'rb') as f:\n",
    "            results, algs, attr, args = pickle.load(f)\n",
    "        oPlot = FlowLayout()\n",
    "        print(args)\n",
    "        save = True\n",
    "        plot_error(results, algs, oPlot, 1, save = save, savename = save_name,sub_sampling = 100, warmup = 0.5)\n",
    "        m, s = plot_regret(results, algs, oPlot, save = save, log = True, upper = 8, savename = save_name, warmup = 0.5,sub_sampling = 100)\n",
    "        oPlot.PassHtmlToCell()\n",
    "        res_m.append(m)\n",
    "        res_s.append(s)\n",
    "i = 0\n",
    "for se in se_list:\n",
    "    for s in s_list:\n",
    "        res = ','.join(map(lambda j: '%.3f' % (res_m[i][j]) + ' (%.3f)' % (res_s[i][j]), range(4)))\n",
    "        print(s, ',', se, ',', res)\n",
    "        i += 1"
   ]
  }
 ],
 "metadata": {
  "kernelspec": {
   "display_name": "Python 3 (ipykernel)",
   "language": "python",
   "name": "python3"
  },
  "language_info": {
   "codemirror_mode": {
    "name": "ipython",
    "version": 3
   },
   "file_extension": ".py",
   "mimetype": "text/x-python",
   "name": "python",
   "nbconvert_exporter": "python",
   "pygments_lexer": "ipython3",
   "version": "3.10.9"
  }
 },
 "nbformat": 4,
 "nbformat_minor": 5
}
